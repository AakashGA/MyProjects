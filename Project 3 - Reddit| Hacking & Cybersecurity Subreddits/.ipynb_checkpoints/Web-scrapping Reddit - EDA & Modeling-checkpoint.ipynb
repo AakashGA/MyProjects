{
 "cells": [
  {
   "cell_type": "code",
   "execution_count": null,
   "metadata": {},
   "outputs": [],
   "source": [
    "import pandas as pd\n",
    "import numpy as np\n",
    "import seaborn as sns\n",
    "import matplotlib.pyplot as plt\n",
    "from sklearn.linear_model import LinearRegression, LassoCV, RidgeCV\n",
    "from sklearn.preprocessing import PolynomialFeatures, StandardScaler\n",
    "from sklearn.model_selection import train_test_split, cross_val_score, cross_val_predict, GridSearchCV\n",
    "from sklearn.metrics import r2_score\n",
    "from sklearn.feature_extraction.text import TfidfVectorizer\n",
    "from sklearn.ensemble import RandomForestClassifier\n",
    "%matplotlib inline"
   ]
  },
  {
   "cell_type": "code",
   "execution_count": null,
   "metadata": {},
   "outputs": [],
   "source": [
    "train = pd.read_csv('./combined.csv')\n",
    "train = train.drop('Unnamed: 0', axis = 1)\n",
    "train.head(0)"
   ]
  },
  {
   "cell_type": "code",
   "execution_count": null,
   "metadata": {},
   "outputs": [],
   "source": [
    "# train.rename(columns = {\n",
    "#     'selftext': 'hack_selftext', 'subreddit': 'hack_sub',\n",
    "#     'selftext.1': 'cyber_selftext', 'subreddit.1': 'cyber_sub'},          \n",
    "# inplace = True)"
   ]
  },
  {
   "cell_type": "code",
   "execution_count": null,
   "metadata": {},
   "outputs": [],
   "source": [
    "def convert_str_nan(data):\n",
    "    return data.replace(np.nan, 'None', inplace = True)\n",
    "convert_str_nan(train)\n",
    "train.isnull().sum().sum()"
   ]
  },
  {
   "cell_type": "code",
   "execution_count": null,
   "metadata": {},
   "outputs": [],
   "source": [
    "train.shape"
   ]
  },
  {
   "cell_type": "code",
   "execution_count": null,
   "metadata": {},
   "outputs": [],
   "source": [
    "train.columns"
   ]
  },
  {
   "cell_type": "code",
   "execution_count": null,
   "metadata": {},
   "outputs": [],
   "source": [
    "train['hack_selftext'] = train.hack_selftext.map(lambda x: re.sub('\\s[\\/]?r\\/[^s]+', ' ', x))\n",
    "train['hack_selftext'] = train.hack_selftext.map(lambda x: re.sub('http[s]?:\\/\\/[^\\s]*', ' ', x))"
   ]
  },
  {
   "cell_type": "code",
   "execution_count": null,
   "metadata": {},
   "outputs": [],
   "source": [
    "# X = train.drop(['GameId','GameDate','GameTime','HostName',\n",
    "#                'GuestName','total_score','total_line', 'game_line',\n",
    "#                'winner','loser','host_wins','Season'], axis=1)\n",
    "# y = data.host_wins"
   ]
  },
  {
   "cell_type": "code",
   "execution_count": null,
   "metadata": {},
   "outputs": [],
   "source": [
    "#  naivebayes_gridsearch = GridSearchCV(\n",
    "#     MultinomialNB(),\n",
    "#     g ,\n",
    "#     cv=5,\n",
    "#     verbose=1,\n",
    "#     n_jobs=2,\n",
    "#     return_train_score=False\n",
    "# )\n",
    "\n",
    "# naivebayes_gridsearch.fit(X_train, y_train);"
   ]
  }
 ],
 "metadata": {
  "kernelspec": {
   "display_name": "Python 3",
   "language": "python",
   "name": "python3"
  },
  "language_info": {
   "codemirror_mode": {
    "name": "ipython",
    "version": 3
   },
   "file_extension": ".py",
   "mimetype": "text/x-python",
   "name": "python",
   "nbconvert_exporter": "python",
   "pygments_lexer": "ipython3",
   "version": "3.7.3"
  }
 },
 "nbformat": 4,
 "nbformat_minor": 2
}
