{
 "cells": [
  {
   "cell_type": "markdown",
   "metadata": {},
   "source": [
    "### Problem 2: \n",
    "Python Programming Problem(15 Points Total). Design and implement a Python program that is based on the following requirements:\n",
    "\n",
    "- a) define a class which has at least two methods \n",
    "- - Method 1 getString: to get a string from console input;\n",
    "- - Method 2 printString: to print the string in upper case. \n",
    "- b) demonstrate code works using three different test input strings\n",
    "- - INSERT code below and INSERT a screen shot of the program and successfully run output that includes test input for input strings (test strings must include (a) all upper case, (b) all lower case, and(c) mix of upper and lower case)."
   ]
  },
  {
   "cell_type": "code",
   "execution_count": null,
   "metadata": {},
   "outputs": [],
   "source": [
    "# Note, for this to work, the user must enter a string, not a empty string\n",
    "# String can contain numbers, the logic will overlook the numbers as they're not numbers per say but characters, \n",
    "# and character numbers can not be capitalized\n",
    "# Using the class letterString allows us to read and write strings as files\n",
    "class letterString():\n",
    "    # We need a __init__ function or method to call in the other methods in the class\n",
    "    # We instantiate a main function that compiles the code, this is necessary when working with multiple classes\n",
    "    def __init__(self):\n",
    "        self.new_str = \"\"\n",
    "    # Per instructions we need a function that prompts the user to input a string\n",
    "    # This method accepts the string from the user\n",
    "    def getString(self):\n",
    "        self.new_str = input()\n",
    "    # The next string gets the retrieved stored string stored within the self variable instantiated and then prints\n",
    "    # that exact string, no matter case, in end result of UPPER CASE output ONLY\n",
    "    # This method will print the input string in all upper case \n",
    "    def printString(self):\n",
    "        print(self.new_str.upper())\n",
    "# Next we call each of the methods that is compiled within the main, aka init function declared up top.\n",
    "new_str = letterString()\n",
    "# This will call the method in which a user will input their string of choice, it invokes that method\n",
    "new_str.getString()\n",
    "# The print method will be invoked, printing out the string in upper case letters only, no matter the string\n",
    "new_str.printString()"
   ]
  }
 ],
 "metadata": {
  "kernelspec": {
   "display_name": "Python 3",
   "language": "python",
   "name": "python3"
  },
  "language_info": {
   "codemirror_mode": {
    "name": "ipython",
    "version": 3
   },
   "file_extension": ".py",
   "mimetype": "text/x-python",
   "name": "python",
   "nbconvert_exporter": "python",
   "pygments_lexer": "ipython3",
   "version": "3.7.7"
  }
 },
 "nbformat": 4,
 "nbformat_minor": 4
}
