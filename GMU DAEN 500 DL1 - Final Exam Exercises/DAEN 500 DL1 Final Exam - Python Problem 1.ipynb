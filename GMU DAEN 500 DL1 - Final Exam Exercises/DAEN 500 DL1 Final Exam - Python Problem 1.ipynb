{
 "cells": [
  {
   "cell_type": "markdown",
   "metadata": {},
   "source": [
    "### Problem 1:\n",
    "\n",
    "Python Programming Problem. Design and implement a Python program that is based on the following requirements:\n",
    "\n",
    "    a)program will find all numbers which are divisible by 7 but are not a multiple of 5\n",
    "    b) numbers between 2000 and 3200.\n",
    "\n",
    "• INSERT(cut & paste) your Python code in space below and then insert a screen shot in space below, showing code, your successful run, input and output."
   ]
  },
  {
   "cell_type": "code",
   "execution_count": 1,
   "metadata": {},
   "outputs": [
    {
     "name": "stdout",
     "output_type": "stream",
     "text": [
      "These are the numbers: 2002, 2009, 2016, 2023, 2037, 2044, 2051, 2058, 2072, 2079, 2086, 2093, 2107, 2114, 2121, 2128, 2142, 2149, 2156, 2163, 2177, 2184, 2191, 2198, 2212, 2219, 2226, 2233, 2247, 2254, 2261, 2268, 2282, 2289, 2296, 2303, 2317, 2324, 2331, 2338, 2352, 2359, 2366, 2373, 2387, 2394, 2401, 2408, 2422, 2429, 2436, 2443, 2457, 2464, 2471, 2478, 2492, 2499, 2506, 2513, 2527, 2534, 2541, 2548, 2562, 2569, 2576, 2583, 2597, 2604, 2611, 2618, 2632, 2639, 2646, 2653, 2667, 2674, 2681, 2688, 2702, 2709, 2716, 2723, 2737, 2744, 2751, 2758, 2772, 2779, 2786, 2793, 2807, 2814, 2821, 2828, 2842, 2849, 2856, 2863, 2877, 2884, 2891, 2898, 2912, 2919, 2926, 2933, 2947, 2954, 2961, 2968, 2982, 2989, 2996, 3003, 3017, 3024, 3031, 3038, 3052, 3059, 3066, 3073, 3087, 3094, 3101, 3108, 3122, 3129, 3136, 3143, 3157, 3164, 3171, 3178, 3192, 3199\n"
     ]
    }
   ],
   "source": [
    "# Declare the variable(s), in this case a list is needed to append values\n",
    "divisible = 7\n",
    "multiple = divisible - 2 # should result in numerical 5\n",
    "minimum_range = 2000\n",
    "maximum_range = minimum_range + 1200 # should result in numerical 3200\n",
    "divisible_seven_not_multiple_five = []\n",
    "# We have a range given so we would use a for loop\n",
    "for i in range(minimum_range, maximum_range):\n",
    "    # Logic of #'s is that we want something where 7 is divisible by said number \n",
    "    # but 5 cannot be a multiple of those numbers\n",
    "    # It's pretty simple here because we want numbers that aren't a multiple of 5, opposite of the logic for 7\n",
    "    if (i % multiple != 0) & (i % divisible == 0):\n",
    "        # We must append each value to the list, being stored within the empty list from above, basic concatenation\n",
    "        divisible_seven_not_multiple_five.append(str(i))\n",
    "# Now we print out all values stored within the string separated by a comma        \n",
    "print(\"These are the numbers:\" + \" \" + ', '.join(divisible_seven_not_multiple_five))"
   ]
  }
 ],
 "metadata": {
  "kernelspec": {
   "display_name": "Python 3",
   "language": "python",
   "name": "python3"
  },
  "language_info": {
   "codemirror_mode": {
    "name": "ipython",
    "version": 3
   },
   "file_extension": ".py",
   "mimetype": "text/x-python",
   "name": "python",
   "nbconvert_exporter": "python",
   "pygments_lexer": "ipython3",
   "version": "3.7.7"
  }
 },
 "nbformat": 4,
 "nbformat_minor": 4
}
