{
 "cells": [
  {
   "cell_type": "markdown",
   "metadata": {},
   "source": [
    "# Project 4 Hackathon"
   ]
  },
  {
   "cell_type": "code",
   "execution_count": 1,
   "metadata": {},
   "outputs": [],
   "source": [
    "import pandas as pd\n",
    "import numpy as np\n",
    "import scipy as sp\n",
    "import seaborn as sns\n",
    "import matplotlib.pyplot as plt\n",
    "from sklearn.model_selection import train_test_split, cross_val_score, cross_val_predict, GridSearchCV\n",
    "from sklearn.feature_extraction.text import CountVectorizer, TfidfVectorizer\n",
    "from sklearn.preprocessing import PolynomialFeatures, StandardScaler\n",
    "from sklearn.naive_bayes import MultinomialNB  # Naive Bayes\n",
    "from sklearn.linear_model import LogisticRegression, LassoCV, RidgeCV\n",
    "from sklearn import metrics\n",
    "from nltk.stem.snowball import SnowballStemmer\n",
    "from sklearn.ensemble import RandomForestClassifier, BaggingClassifier, AdaBoostClassifier\n",
    "from sklearn.metrics import r2_score, confusion_matrix\n",
    "from sklearn.neighbors import KNeighborsClassifier\n",
    "from sklearn.svm import SVC\n",
    "from sklearn.tree import DecisionTreeClassifier\n",
    "%matplotlib inline"
   ]
  },
  {
   "cell_type": "code",
   "execution_count": 2,
   "metadata": {},
   "outputs": [
    {
     "name": "stdout",
     "output_type": "stream",
     "text": [
      "/Users/AakashSharma/Documents/DSI/Submissions/Project4\r\n"
     ]
    }
   ],
   "source": [
    "!pwd"
   ]
  },
  {
   "cell_type": "code",
   "execution_count": 3,
   "metadata": {
    "scrolled": false
   },
   "outputs": [],
   "source": [
    "cheap_train = pd.read_csv('./data/cheap_train_sample.csv')\n",
    "df = pd.DataFrame(cheap_train)"
   ]
  },
  {
   "cell_type": "code",
   "execution_count": 4,
   "metadata": {},
   "outputs": [],
   "source": [
    "# Function for EDA\n",
    "def eda(dataframe):\n",
    "    # Replace any blank spaces w/ a underscore.\n",
    "    dataframe.columns = dataframe.columns.str.replace(\" \", \"_\")\n",
    "    # Checks for the null values.\n",
    "    print(\"missing values: {}\".format(dataframe.isnull().sum().sum()))\n",
    "    print(\"dataframe index: {}\".format(dataframe.index))\n",
    "    # Checks for data types of the columns within the data frame.\n",
    "    print(\"dataframe types: {}\".format(dataframe.dtypes))\n",
    "    # Checks the shape of the data frame.\n",
    "    print(\"dataframe shape: {}\".format(dataframe.shape))\n",
    "    # Gives us any statistical information of the data frame.\n",
    "    print(\"dataframe describe: {}\".format(dataframe.describe()))\n",
    "    # Gives us the duplicated data of the data frame. \n",
    "    print(\"dataframe duplicates: {}\".format(dataframe[dataframe.duplicated()].sum()))\n",
    "    \n",
    "    # A for loop that does this for every single column & their values within our data frame giving us all unique values.\n",
    "    for item in dataframe:\n",
    "        print(item)\n",
    "        print(dataframe[item].nunique())"
   ]
  },
  {
   "cell_type": "code",
   "execution_count": 5,
   "metadata": {},
   "outputs": [
    {
     "name": "stdout",
     "output_type": "stream",
     "text": [
      "missing values: 0\n",
      "dataframe index: RangeIndex(start=0, stop=6513, step=1)\n",
      "dataframe types: age                int64\n",
      "workclass         object\n",
      "fnlwgt             int64\n",
      "education         object\n",
      "education-num      int64\n",
      "marital-status    object\n",
      "occupation        object\n",
      "relationship      object\n",
      "sex               object\n",
      "capital-gain       int64\n",
      "capital-loss       int64\n",
      "hours-per-week     int64\n",
      "native-country    object\n",
      "wage              object\n",
      "dtype: object\n",
      "dataframe shape: (6513, 14)\n",
      "dataframe describe:                age        fnlwgt  education-num  capital-gain  capital-loss  \\\n",
      "count  6513.000000  6.513000e+03    6513.000000   6513.000000   6513.000000   \n",
      "mean     38.529556  1.926640e+05      10.068478   1059.200829     92.108092   \n",
      "std      13.684351  1.060173e+05       2.589238   7392.040587    413.710886   \n",
      "min      17.000000  1.228500e+04       1.000000      0.000000      0.000000   \n",
      "25%      27.000000  1.202380e+05       9.000000      0.000000      0.000000   \n",
      "50%      37.000000  1.815760e+05      10.000000      0.000000      0.000000   \n",
      "75%      48.000000  2.417530e+05      13.000000      0.000000      0.000000   \n",
      "max      90.000000  1.366120e+06      16.000000  99999.000000   4356.000000   \n",
      "\n",
      "       hours-per-week  \n",
      "count     6513.000000  \n",
      "mean        40.400891  \n",
      "std         12.354685  \n",
      "min          1.000000  \n",
      "25%         40.000000  \n",
      "50%         40.000000  \n",
      "75%         45.000000  \n",
      "max         99.000000  \n",
      "dataframe duplicates: age               0.0\n",
      "workclass         0.0\n",
      "fnlwgt            0.0\n",
      "education         0.0\n",
      "education-num     0.0\n",
      "marital-status    0.0\n",
      "occupation        0.0\n",
      "relationship      0.0\n",
      "sex               0.0\n",
      "capital-gain      0.0\n",
      "capital-loss      0.0\n",
      "hours-per-week    0.0\n",
      "native-country    0.0\n",
      "wage              0.0\n",
      "dtype: float64\n",
      "age\n",
      "69\n",
      "workclass\n",
      "9\n",
      "fnlwgt\n",
      "5856\n",
      "education\n",
      "16\n",
      "education-num\n",
      "16\n",
      "marital-status\n",
      "7\n",
      "occupation\n",
      "15\n",
      "relationship\n",
      "6\n",
      "sex\n",
      "2\n",
      "capital-gain\n",
      "88\n",
      "capital-loss\n",
      "70\n",
      "hours-per-week\n",
      "79\n",
      "native-country\n",
      "41\n",
      "wage\n",
      "2\n"
     ]
    }
   ],
   "source": [
    "eda(df)"
   ]
  },
  {
   "cell_type": "code",
   "execution_count": 6,
   "metadata": {},
   "outputs": [],
   "source": [
    "# Creates a list of all object columns.\n",
    "object_types = df[['workclass', \n",
    "                   'education', \n",
    "                   'marital-status',\n",
    "                   'occupation',\n",
    "                   'relationship',\n",
    "                   'sex',\n",
    "                   'native-country',\n",
    "                   'wage']]"
   ]
  },
  {
   "cell_type": "code",
   "execution_count": 7,
   "metadata": {
    "scrolled": true
   },
   "outputs": [
    {
     "data": {
      "text/html": [
       "<div>\n",
       "<style scoped>\n",
       "    .dataframe tbody tr th:only-of-type {\n",
       "        vertical-align: middle;\n",
       "    }\n",
       "\n",
       "    .dataframe tbody tr th {\n",
       "        vertical-align: top;\n",
       "    }\n",
       "\n",
       "    .dataframe thead th {\n",
       "        text-align: right;\n",
       "    }\n",
       "</style>\n",
       "<table border=\"1\" class=\"dataframe\">\n",
       "  <thead>\n",
       "    <tr style=\"text-align: right;\">\n",
       "      <th></th>\n",
       "      <th>workclass</th>\n",
       "      <th>education</th>\n",
       "      <th>marital-status</th>\n",
       "      <th>occupation</th>\n",
       "      <th>relationship</th>\n",
       "      <th>sex</th>\n",
       "      <th>native-country</th>\n",
       "      <th>wage</th>\n",
       "    </tr>\n",
       "  </thead>\n",
       "  <tbody>\n",
       "    <tr>\n",
       "      <th>0</th>\n",
       "      <td>Private</td>\n",
       "      <td>9th</td>\n",
       "      <td>Divorced</td>\n",
       "      <td>Adm-clerical</td>\n",
       "      <td>Not-in-family</td>\n",
       "      <td>Male</td>\n",
       "      <td>United-States</td>\n",
       "      <td>&lt;=50K</td>\n",
       "    </tr>\n",
       "    <tr>\n",
       "      <th>1</th>\n",
       "      <td>Private</td>\n",
       "      <td>HS-grad</td>\n",
       "      <td>Married-civ-spouse</td>\n",
       "      <td>Craft-repair</td>\n",
       "      <td>Husband</td>\n",
       "      <td>Male</td>\n",
       "      <td>United-States</td>\n",
       "      <td>&lt;=50K</td>\n",
       "    </tr>\n",
       "    <tr>\n",
       "      <th>2</th>\n",
       "      <td>Private</td>\n",
       "      <td>Bachelors</td>\n",
       "      <td>Married-civ-spouse</td>\n",
       "      <td>Sales</td>\n",
       "      <td>Husband</td>\n",
       "      <td>Male</td>\n",
       "      <td>United-States</td>\n",
       "      <td>&gt;50K</td>\n",
       "    </tr>\n",
       "    <tr>\n",
       "      <th>3</th>\n",
       "      <td>Private</td>\n",
       "      <td>Bachelors</td>\n",
       "      <td>Married-civ-spouse</td>\n",
       "      <td>Other-service</td>\n",
       "      <td>Husband</td>\n",
       "      <td>Male</td>\n",
       "      <td>United-States</td>\n",
       "      <td>&gt;50K</td>\n",
       "    </tr>\n",
       "    <tr>\n",
       "      <th>4</th>\n",
       "      <td>Federal-gov</td>\n",
       "      <td>Masters</td>\n",
       "      <td>Never-married</td>\n",
       "      <td>Exec-managerial</td>\n",
       "      <td>Not-in-family</td>\n",
       "      <td>Female</td>\n",
       "      <td>United-States</td>\n",
       "      <td>&gt;50K</td>\n",
       "    </tr>\n",
       "  </tbody>\n",
       "</table>\n",
       "</div>"
      ],
      "text/plain": [
       "      workclass   education       marital-status        occupation  \\\n",
       "0       Private         9th             Divorced      Adm-clerical   \n",
       "1       Private     HS-grad   Married-civ-spouse      Craft-repair   \n",
       "2       Private   Bachelors   Married-civ-spouse             Sales   \n",
       "3       Private   Bachelors   Married-civ-spouse     Other-service   \n",
       "4   Federal-gov     Masters        Never-married   Exec-managerial   \n",
       "\n",
       "     relationship      sex  native-country    wage  \n",
       "0   Not-in-family     Male   United-States   <=50K  \n",
       "1         Husband     Male   United-States   <=50K  \n",
       "2         Husband     Male   United-States    >50K  \n",
       "3         Husband     Male   United-States    >50K  \n",
       "4   Not-in-family   Female   United-States    >50K  "
      ]
     },
     "execution_count": 7,
     "metadata": {},
     "output_type": "execute_result"
    }
   ],
   "source": [
    "object_types.head()"
   ]
  },
  {
   "cell_type": "code",
   "execution_count": 8,
   "metadata": {},
   "outputs": [
    {
     "name": "stderr",
     "output_type": "stream",
     "text": [
      "/anaconda3/lib/python3.7/site-packages/ipykernel_launcher.py:3: SettingWithCopyWarning: \n",
      "A value is trying to be set on a copy of a slice from a DataFrame.\n",
      "Try using .loc[row_indexer,col_indexer] = value instead\n",
      "\n",
      "See the caveats in the documentation: http://pandas.pydata.org/pandas-docs/stable/indexing.html#indexing-view-versus-copy\n",
      "  This is separate from the ipykernel package so we can avoid doing imports until\n"
     ]
    }
   ],
   "source": [
    "# Strips every column of data types that are \"objects\" of all blank spaces\n",
    "for col in object_types.columns:\n",
    "    object_types[col] = object_types[col].map(lambda x: x.strip())"
   ]
  },
  {
   "cell_type": "code",
   "execution_count": 9,
   "metadata": {
    "scrolled": false
   },
   "outputs": [
    {
     "name": "stderr",
     "output_type": "stream",
     "text": [
      "/anaconda3/lib/python3.7/site-packages/pandas/core/frame.py:4042: SettingWithCopyWarning: \n",
      "A value is trying to be set on a copy of a slice from a DataFrame\n",
      "\n",
      "See the caveats in the documentation: http://pandas.pydata.org/pandas-docs/stable/indexing.html#indexing-view-versus-copy\n",
      "  method=method)\n"
     ]
    }
   ],
   "source": [
    "# Function that converts any 'NaN' values of a string object column to \"None\".\n",
    "def convert_str_nan(data, columns):\n",
    "    return df[columns].replace(np.nan, 'None', inplace = True)\n",
    "\n",
    "# Function that strips column names of spaces. \n",
    "def strip_column_names(df, columns):\n",
    "    df.columns = df.columns.str.strip()\n",
    "    return df\n",
    "\n",
    "strip_column_names(df, ['workclass', 'education', 'marital-status',\n",
    "                   'occupation', 'relationship', 'sex', 'native-country', 'wage'])\n",
    "\n",
    "convert_str_nan(df, ['workclass', 'education', 'marital-status',\n",
    "                   'occupation', 'relationship', 'sex', 'native-country', 'wage'])"
   ]
  },
  {
   "cell_type": "code",
   "execution_count": 10,
   "metadata": {},
   "outputs": [],
   "source": [
    "# Now we can clean our data types, stripping them of '?' or blank spaces.\n",
    "object_columns = ['workclass', \n",
    "                'education', \n",
    "                'marital-status',\n",
    "                'occupation',\n",
    "                'relationship',\n",
    "                'sex',\n",
    "                'native-country',\n",
    "                'wage']\n",
    "\n",
    "for col in object_columns:\n",
    "    df[col] = df[col].map(lambda x: x.strip())\n",
    "\n",
    "\n",
    "for col in object_columns:\n",
    "    df[col] = df[col].map(lambda x: x.replace('?', ''))"
   ]
  },
  {
   "cell_type": "code",
   "execution_count": 11,
   "metadata": {},
   "outputs": [],
   "source": [
    "# Function to dummy all the columns within a data frame.\n",
    "def dummies(df, column):\n",
    "    column_dummies = pd.get_dummies(df[column], drop_first = True)\n",
    "    df = df.join(column_dummies)\n",
    "    return df\n",
    "\n",
    "df = dummies(df, ['workclass', 'education', 'marital-status', 'occupation', 'relationship',\n",
    "                   'sex', 'native-country', 'wage'])"
   ]
  },
  {
   "cell_type": "code",
   "execution_count": 12,
   "metadata": {
    "scrolled": true
   },
   "outputs": [
    {
     "data": {
      "text/html": [
       "<div>\n",
       "<style scoped>\n",
       "    .dataframe tbody tr th:only-of-type {\n",
       "        vertical-align: middle;\n",
       "    }\n",
       "\n",
       "    .dataframe tbody tr th {\n",
       "        vertical-align: top;\n",
       "    }\n",
       "\n",
       "    .dataframe thead th {\n",
       "        text-align: right;\n",
       "    }\n",
       "</style>\n",
       "<table border=\"1\" class=\"dataframe\">\n",
       "  <thead>\n",
       "    <tr style=\"text-align: right;\">\n",
       "      <th></th>\n",
       "      <th>0</th>\n",
       "      <th>1</th>\n",
       "      <th>2</th>\n",
       "      <th>3</th>\n",
       "      <th>4</th>\n",
       "    </tr>\n",
       "  </thead>\n",
       "  <tbody>\n",
       "    <tr>\n",
       "      <th>age</th>\n",
       "      <td>56</td>\n",
       "      <td>28</td>\n",
       "      <td>33</td>\n",
       "      <td>26</td>\n",
       "      <td>40</td>\n",
       "    </tr>\n",
       "    <tr>\n",
       "      <th>workclass</th>\n",
       "      <td>Private</td>\n",
       "      <td>Private</td>\n",
       "      <td>Private</td>\n",
       "      <td>Private</td>\n",
       "      <td>Federal-gov</td>\n",
       "    </tr>\n",
       "    <tr>\n",
       "      <th>fnlwgt</th>\n",
       "      <td>346033</td>\n",
       "      <td>96226</td>\n",
       "      <td>251120</td>\n",
       "      <td>178140</td>\n",
       "      <td>56795</td>\n",
       "    </tr>\n",
       "    <tr>\n",
       "      <th>education</th>\n",
       "      <td>9th</td>\n",
       "      <td>HS-grad</td>\n",
       "      <td>Bachelors</td>\n",
       "      <td>Bachelors</td>\n",
       "      <td>Masters</td>\n",
       "    </tr>\n",
       "    <tr>\n",
       "      <th>education-num</th>\n",
       "      <td>5</td>\n",
       "      <td>9</td>\n",
       "      <td>13</td>\n",
       "      <td>13</td>\n",
       "      <td>14</td>\n",
       "    </tr>\n",
       "    <tr>\n",
       "      <th>marital-status</th>\n",
       "      <td>Divorced</td>\n",
       "      <td>Married-civ-spouse</td>\n",
       "      <td>Married-civ-spouse</td>\n",
       "      <td>Married-civ-spouse</td>\n",
       "      <td>Never-married</td>\n",
       "    </tr>\n",
       "    <tr>\n",
       "      <th>occupation</th>\n",
       "      <td>Adm-clerical</td>\n",
       "      <td>Craft-repair</td>\n",
       "      <td>Sales</td>\n",
       "      <td>Other-service</td>\n",
       "      <td>Exec-managerial</td>\n",
       "    </tr>\n",
       "    <tr>\n",
       "      <th>relationship</th>\n",
       "      <td>Not-in-family</td>\n",
       "      <td>Husband</td>\n",
       "      <td>Husband</td>\n",
       "      <td>Husband</td>\n",
       "      <td>Not-in-family</td>\n",
       "    </tr>\n",
       "    <tr>\n",
       "      <th>sex</th>\n",
       "      <td>Male</td>\n",
       "      <td>Male</td>\n",
       "      <td>Male</td>\n",
       "      <td>Male</td>\n",
       "      <td>Female</td>\n",
       "    </tr>\n",
       "    <tr>\n",
       "      <th>capital-gain</th>\n",
       "      <td>0</td>\n",
       "      <td>0</td>\n",
       "      <td>7688</td>\n",
       "      <td>0</td>\n",
       "      <td>14084</td>\n",
       "    </tr>\n",
       "    <tr>\n",
       "      <th>capital-loss</th>\n",
       "      <td>0</td>\n",
       "      <td>0</td>\n",
       "      <td>0</td>\n",
       "      <td>0</td>\n",
       "      <td>0</td>\n",
       "    </tr>\n",
       "    <tr>\n",
       "      <th>hours-per-week</th>\n",
       "      <td>40</td>\n",
       "      <td>45</td>\n",
       "      <td>50</td>\n",
       "      <td>45</td>\n",
       "      <td>55</td>\n",
       "    </tr>\n",
       "    <tr>\n",
       "      <th>native-country</th>\n",
       "      <td>United-States</td>\n",
       "      <td>United-States</td>\n",
       "      <td>United-States</td>\n",
       "      <td>United-States</td>\n",
       "      <td>United-States</td>\n",
       "    </tr>\n",
       "    <tr>\n",
       "      <th>wage</th>\n",
       "      <td>&lt;=50K</td>\n",
       "      <td>&lt;=50K</td>\n",
       "      <td>&gt;50K</td>\n",
       "      <td>&gt;50K</td>\n",
       "      <td>&gt;50K</td>\n",
       "    </tr>\n",
       "    <tr>\n",
       "      <th>workclass_Federal-gov</th>\n",
       "      <td>0</td>\n",
       "      <td>0</td>\n",
       "      <td>0</td>\n",
       "      <td>0</td>\n",
       "      <td>1</td>\n",
       "    </tr>\n",
       "    <tr>\n",
       "      <th>workclass_Local-gov</th>\n",
       "      <td>0</td>\n",
       "      <td>0</td>\n",
       "      <td>0</td>\n",
       "      <td>0</td>\n",
       "      <td>0</td>\n",
       "    </tr>\n",
       "    <tr>\n",
       "      <th>workclass_Never-worked</th>\n",
       "      <td>0</td>\n",
       "      <td>0</td>\n",
       "      <td>0</td>\n",
       "      <td>0</td>\n",
       "      <td>0</td>\n",
       "    </tr>\n",
       "    <tr>\n",
       "      <th>workclass_Private</th>\n",
       "      <td>1</td>\n",
       "      <td>1</td>\n",
       "      <td>1</td>\n",
       "      <td>1</td>\n",
       "      <td>0</td>\n",
       "    </tr>\n",
       "    <tr>\n",
       "      <th>workclass_Self-emp-inc</th>\n",
       "      <td>0</td>\n",
       "      <td>0</td>\n",
       "      <td>0</td>\n",
       "      <td>0</td>\n",
       "      <td>0</td>\n",
       "    </tr>\n",
       "    <tr>\n",
       "      <th>workclass_Self-emp-not-inc</th>\n",
       "      <td>0</td>\n",
       "      <td>0</td>\n",
       "      <td>0</td>\n",
       "      <td>0</td>\n",
       "      <td>0</td>\n",
       "    </tr>\n",
       "    <tr>\n",
       "      <th>workclass_State-gov</th>\n",
       "      <td>0</td>\n",
       "      <td>0</td>\n",
       "      <td>0</td>\n",
       "      <td>0</td>\n",
       "      <td>0</td>\n",
       "    </tr>\n",
       "    <tr>\n",
       "      <th>workclass_Without-pay</th>\n",
       "      <td>0</td>\n",
       "      <td>0</td>\n",
       "      <td>0</td>\n",
       "      <td>0</td>\n",
       "      <td>0</td>\n",
       "    </tr>\n",
       "    <tr>\n",
       "      <th>education_11th</th>\n",
       "      <td>0</td>\n",
       "      <td>0</td>\n",
       "      <td>0</td>\n",
       "      <td>0</td>\n",
       "      <td>0</td>\n",
       "    </tr>\n",
       "    <tr>\n",
       "      <th>education_12th</th>\n",
       "      <td>0</td>\n",
       "      <td>0</td>\n",
       "      <td>0</td>\n",
       "      <td>0</td>\n",
       "      <td>0</td>\n",
       "    </tr>\n",
       "    <tr>\n",
       "      <th>education_1st-4th</th>\n",
       "      <td>0</td>\n",
       "      <td>0</td>\n",
       "      <td>0</td>\n",
       "      <td>0</td>\n",
       "      <td>0</td>\n",
       "    </tr>\n",
       "    <tr>\n",
       "      <th>education_5th-6th</th>\n",
       "      <td>0</td>\n",
       "      <td>0</td>\n",
       "      <td>0</td>\n",
       "      <td>0</td>\n",
       "      <td>0</td>\n",
       "    </tr>\n",
       "    <tr>\n",
       "      <th>education_7th-8th</th>\n",
       "      <td>0</td>\n",
       "      <td>0</td>\n",
       "      <td>0</td>\n",
       "      <td>0</td>\n",
       "      <td>0</td>\n",
       "    </tr>\n",
       "    <tr>\n",
       "      <th>education_9th</th>\n",
       "      <td>1</td>\n",
       "      <td>0</td>\n",
       "      <td>0</td>\n",
       "      <td>0</td>\n",
       "      <td>0</td>\n",
       "    </tr>\n",
       "    <tr>\n",
       "      <th>education_Assoc-acdm</th>\n",
       "      <td>0</td>\n",
       "      <td>0</td>\n",
       "      <td>0</td>\n",
       "      <td>0</td>\n",
       "      <td>0</td>\n",
       "    </tr>\n",
       "    <tr>\n",
       "      <th>education_Assoc-voc</th>\n",
       "      <td>0</td>\n",
       "      <td>0</td>\n",
       "      <td>0</td>\n",
       "      <td>0</td>\n",
       "      <td>0</td>\n",
       "    </tr>\n",
       "    <tr>\n",
       "      <th>...</th>\n",
       "      <td>...</td>\n",
       "      <td>...</td>\n",
       "      <td>...</td>\n",
       "      <td>...</td>\n",
       "      <td>...</td>\n",
       "    </tr>\n",
       "    <tr>\n",
       "      <th>native-country_Greece</th>\n",
       "      <td>0</td>\n",
       "      <td>0</td>\n",
       "      <td>0</td>\n",
       "      <td>0</td>\n",
       "      <td>0</td>\n",
       "    </tr>\n",
       "    <tr>\n",
       "      <th>native-country_Guatemala</th>\n",
       "      <td>0</td>\n",
       "      <td>0</td>\n",
       "      <td>0</td>\n",
       "      <td>0</td>\n",
       "      <td>0</td>\n",
       "    </tr>\n",
       "    <tr>\n",
       "      <th>native-country_Haiti</th>\n",
       "      <td>0</td>\n",
       "      <td>0</td>\n",
       "      <td>0</td>\n",
       "      <td>0</td>\n",
       "      <td>0</td>\n",
       "    </tr>\n",
       "    <tr>\n",
       "      <th>native-country_Honduras</th>\n",
       "      <td>0</td>\n",
       "      <td>0</td>\n",
       "      <td>0</td>\n",
       "      <td>0</td>\n",
       "      <td>0</td>\n",
       "    </tr>\n",
       "    <tr>\n",
       "      <th>native-country_Hong</th>\n",
       "      <td>0</td>\n",
       "      <td>0</td>\n",
       "      <td>0</td>\n",
       "      <td>0</td>\n",
       "      <td>0</td>\n",
       "    </tr>\n",
       "    <tr>\n",
       "      <th>native-country_Hungary</th>\n",
       "      <td>0</td>\n",
       "      <td>0</td>\n",
       "      <td>0</td>\n",
       "      <td>0</td>\n",
       "      <td>0</td>\n",
       "    </tr>\n",
       "    <tr>\n",
       "      <th>native-country_India</th>\n",
       "      <td>0</td>\n",
       "      <td>0</td>\n",
       "      <td>0</td>\n",
       "      <td>0</td>\n",
       "      <td>0</td>\n",
       "    </tr>\n",
       "    <tr>\n",
       "      <th>native-country_Iran</th>\n",
       "      <td>0</td>\n",
       "      <td>0</td>\n",
       "      <td>0</td>\n",
       "      <td>0</td>\n",
       "      <td>0</td>\n",
       "    </tr>\n",
       "    <tr>\n",
       "      <th>native-country_Ireland</th>\n",
       "      <td>0</td>\n",
       "      <td>0</td>\n",
       "      <td>0</td>\n",
       "      <td>0</td>\n",
       "      <td>0</td>\n",
       "    </tr>\n",
       "    <tr>\n",
       "      <th>native-country_Italy</th>\n",
       "      <td>0</td>\n",
       "      <td>0</td>\n",
       "      <td>0</td>\n",
       "      <td>0</td>\n",
       "      <td>0</td>\n",
       "    </tr>\n",
       "    <tr>\n",
       "      <th>native-country_Jamaica</th>\n",
       "      <td>0</td>\n",
       "      <td>0</td>\n",
       "      <td>0</td>\n",
       "      <td>0</td>\n",
       "      <td>0</td>\n",
       "    </tr>\n",
       "    <tr>\n",
       "      <th>native-country_Japan</th>\n",
       "      <td>0</td>\n",
       "      <td>0</td>\n",
       "      <td>0</td>\n",
       "      <td>0</td>\n",
       "      <td>0</td>\n",
       "    </tr>\n",
       "    <tr>\n",
       "      <th>native-country_Laos</th>\n",
       "      <td>0</td>\n",
       "      <td>0</td>\n",
       "      <td>0</td>\n",
       "      <td>0</td>\n",
       "      <td>0</td>\n",
       "    </tr>\n",
       "    <tr>\n",
       "      <th>native-country_Mexico</th>\n",
       "      <td>0</td>\n",
       "      <td>0</td>\n",
       "      <td>0</td>\n",
       "      <td>0</td>\n",
       "      <td>0</td>\n",
       "    </tr>\n",
       "    <tr>\n",
       "      <th>native-country_Nicaragua</th>\n",
       "      <td>0</td>\n",
       "      <td>0</td>\n",
       "      <td>0</td>\n",
       "      <td>0</td>\n",
       "      <td>0</td>\n",
       "    </tr>\n",
       "    <tr>\n",
       "      <th>native-country_Outlying-US(Guam-USVI-etc)</th>\n",
       "      <td>0</td>\n",
       "      <td>0</td>\n",
       "      <td>0</td>\n",
       "      <td>0</td>\n",
       "      <td>0</td>\n",
       "    </tr>\n",
       "    <tr>\n",
       "      <th>native-country_Peru</th>\n",
       "      <td>0</td>\n",
       "      <td>0</td>\n",
       "      <td>0</td>\n",
       "      <td>0</td>\n",
       "      <td>0</td>\n",
       "    </tr>\n",
       "    <tr>\n",
       "      <th>native-country_Philippines</th>\n",
       "      <td>0</td>\n",
       "      <td>0</td>\n",
       "      <td>0</td>\n",
       "      <td>0</td>\n",
       "      <td>0</td>\n",
       "    </tr>\n",
       "    <tr>\n",
       "      <th>native-country_Poland</th>\n",
       "      <td>0</td>\n",
       "      <td>0</td>\n",
       "      <td>0</td>\n",
       "      <td>0</td>\n",
       "      <td>0</td>\n",
       "    </tr>\n",
       "    <tr>\n",
       "      <th>native-country_Portugal</th>\n",
       "      <td>0</td>\n",
       "      <td>0</td>\n",
       "      <td>0</td>\n",
       "      <td>0</td>\n",
       "      <td>0</td>\n",
       "    </tr>\n",
       "    <tr>\n",
       "      <th>native-country_Puerto-Rico</th>\n",
       "      <td>0</td>\n",
       "      <td>0</td>\n",
       "      <td>0</td>\n",
       "      <td>0</td>\n",
       "      <td>0</td>\n",
       "    </tr>\n",
       "    <tr>\n",
       "      <th>native-country_Scotland</th>\n",
       "      <td>0</td>\n",
       "      <td>0</td>\n",
       "      <td>0</td>\n",
       "      <td>0</td>\n",
       "      <td>0</td>\n",
       "    </tr>\n",
       "    <tr>\n",
       "      <th>native-country_South</th>\n",
       "      <td>0</td>\n",
       "      <td>0</td>\n",
       "      <td>0</td>\n",
       "      <td>0</td>\n",
       "      <td>0</td>\n",
       "    </tr>\n",
       "    <tr>\n",
       "      <th>native-country_Taiwan</th>\n",
       "      <td>0</td>\n",
       "      <td>0</td>\n",
       "      <td>0</td>\n",
       "      <td>0</td>\n",
       "      <td>0</td>\n",
       "    </tr>\n",
       "    <tr>\n",
       "      <th>native-country_Thailand</th>\n",
       "      <td>0</td>\n",
       "      <td>0</td>\n",
       "      <td>0</td>\n",
       "      <td>0</td>\n",
       "      <td>0</td>\n",
       "    </tr>\n",
       "    <tr>\n",
       "      <th>native-country_Trinadad&amp;Tobago</th>\n",
       "      <td>0</td>\n",
       "      <td>0</td>\n",
       "      <td>0</td>\n",
       "      <td>0</td>\n",
       "      <td>0</td>\n",
       "    </tr>\n",
       "    <tr>\n",
       "      <th>native-country_United-States</th>\n",
       "      <td>1</td>\n",
       "      <td>1</td>\n",
       "      <td>1</td>\n",
       "      <td>1</td>\n",
       "      <td>1</td>\n",
       "    </tr>\n",
       "    <tr>\n",
       "      <th>native-country_Vietnam</th>\n",
       "      <td>0</td>\n",
       "      <td>0</td>\n",
       "      <td>0</td>\n",
       "      <td>0</td>\n",
       "      <td>0</td>\n",
       "    </tr>\n",
       "    <tr>\n",
       "      <th>native-country_Yugoslavia</th>\n",
       "      <td>0</td>\n",
       "      <td>0</td>\n",
       "      <td>0</td>\n",
       "      <td>0</td>\n",
       "      <td>0</td>\n",
       "    </tr>\n",
       "    <tr>\n",
       "      <th>wage_&gt;50K</th>\n",
       "      <td>0</td>\n",
       "      <td>0</td>\n",
       "      <td>1</td>\n",
       "      <td>1</td>\n",
       "      <td>1</td>\n",
       "    </tr>\n",
       "  </tbody>\n",
       "</table>\n",
       "<p>104 rows × 5 columns</p>\n",
       "</div>"
      ],
      "text/plain": [
       "                                                       0                   1  \\\n",
       "age                                                   56                  28   \n",
       "workclass                                        Private             Private   \n",
       "fnlwgt                                            346033               96226   \n",
       "education                                            9th             HS-grad   \n",
       "education-num                                          5                   9   \n",
       "marital-status                                  Divorced  Married-civ-spouse   \n",
       "occupation                                  Adm-clerical        Craft-repair   \n",
       "relationship                               Not-in-family             Husband   \n",
       "sex                                                 Male                Male   \n",
       "capital-gain                                           0                   0   \n",
       "capital-loss                                           0                   0   \n",
       "hours-per-week                                        40                  45   \n",
       "native-country                             United-States       United-States   \n",
       "wage                                               <=50K               <=50K   \n",
       "workclass_Federal-gov                                  0                   0   \n",
       "workclass_Local-gov                                    0                   0   \n",
       "workclass_Never-worked                                 0                   0   \n",
       "workclass_Private                                      1                   1   \n",
       "workclass_Self-emp-inc                                 0                   0   \n",
       "workclass_Self-emp-not-inc                             0                   0   \n",
       "workclass_State-gov                                    0                   0   \n",
       "workclass_Without-pay                                  0                   0   \n",
       "education_11th                                         0                   0   \n",
       "education_12th                                         0                   0   \n",
       "education_1st-4th                                      0                   0   \n",
       "education_5th-6th                                      0                   0   \n",
       "education_7th-8th                                      0                   0   \n",
       "education_9th                                          1                   0   \n",
       "education_Assoc-acdm                                   0                   0   \n",
       "education_Assoc-voc                                    0                   0   \n",
       "...                                                  ...                 ...   \n",
       "native-country_Greece                                  0                   0   \n",
       "native-country_Guatemala                               0                   0   \n",
       "native-country_Haiti                                   0                   0   \n",
       "native-country_Honduras                                0                   0   \n",
       "native-country_Hong                                    0                   0   \n",
       "native-country_Hungary                                 0                   0   \n",
       "native-country_India                                   0                   0   \n",
       "native-country_Iran                                    0                   0   \n",
       "native-country_Ireland                                 0                   0   \n",
       "native-country_Italy                                   0                   0   \n",
       "native-country_Jamaica                                 0                   0   \n",
       "native-country_Japan                                   0                   0   \n",
       "native-country_Laos                                    0                   0   \n",
       "native-country_Mexico                                  0                   0   \n",
       "native-country_Nicaragua                               0                   0   \n",
       "native-country_Outlying-US(Guam-USVI-etc)              0                   0   \n",
       "native-country_Peru                                    0                   0   \n",
       "native-country_Philippines                             0                   0   \n",
       "native-country_Poland                                  0                   0   \n",
       "native-country_Portugal                                0                   0   \n",
       "native-country_Puerto-Rico                             0                   0   \n",
       "native-country_Scotland                                0                   0   \n",
       "native-country_South                                   0                   0   \n",
       "native-country_Taiwan                                  0                   0   \n",
       "native-country_Thailand                                0                   0   \n",
       "native-country_Trinadad&Tobago                         0                   0   \n",
       "native-country_United-States                           1                   1   \n",
       "native-country_Vietnam                                 0                   0   \n",
       "native-country_Yugoslavia                              0                   0   \n",
       "wage_>50K                                              0                   0   \n",
       "\n",
       "                                                            2  \\\n",
       "age                                                        33   \n",
       "workclass                                             Private   \n",
       "fnlwgt                                                 251120   \n",
       "education                                           Bachelors   \n",
       "education-num                                              13   \n",
       "marital-status                             Married-civ-spouse   \n",
       "occupation                                              Sales   \n",
       "relationship                                          Husband   \n",
       "sex                                                      Male   \n",
       "capital-gain                                             7688   \n",
       "capital-loss                                                0   \n",
       "hours-per-week                                             50   \n",
       "native-country                                  United-States   \n",
       "wage                                                     >50K   \n",
       "workclass_Federal-gov                                       0   \n",
       "workclass_Local-gov                                         0   \n",
       "workclass_Never-worked                                      0   \n",
       "workclass_Private                                           1   \n",
       "workclass_Self-emp-inc                                      0   \n",
       "workclass_Self-emp-not-inc                                  0   \n",
       "workclass_State-gov                                         0   \n",
       "workclass_Without-pay                                       0   \n",
       "education_11th                                              0   \n",
       "education_12th                                              0   \n",
       "education_1st-4th                                           0   \n",
       "education_5th-6th                                           0   \n",
       "education_7th-8th                                           0   \n",
       "education_9th                                               0   \n",
       "education_Assoc-acdm                                        0   \n",
       "education_Assoc-voc                                         0   \n",
       "...                                                       ...   \n",
       "native-country_Greece                                       0   \n",
       "native-country_Guatemala                                    0   \n",
       "native-country_Haiti                                        0   \n",
       "native-country_Honduras                                     0   \n",
       "native-country_Hong                                         0   \n",
       "native-country_Hungary                                      0   \n",
       "native-country_India                                        0   \n",
       "native-country_Iran                                         0   \n",
       "native-country_Ireland                                      0   \n",
       "native-country_Italy                                        0   \n",
       "native-country_Jamaica                                      0   \n",
       "native-country_Japan                                        0   \n",
       "native-country_Laos                                         0   \n",
       "native-country_Mexico                                       0   \n",
       "native-country_Nicaragua                                    0   \n",
       "native-country_Outlying-US(Guam-USVI-etc)                   0   \n",
       "native-country_Peru                                         0   \n",
       "native-country_Philippines                                  0   \n",
       "native-country_Poland                                       0   \n",
       "native-country_Portugal                                     0   \n",
       "native-country_Puerto-Rico                                  0   \n",
       "native-country_Scotland                                     0   \n",
       "native-country_South                                        0   \n",
       "native-country_Taiwan                                       0   \n",
       "native-country_Thailand                                     0   \n",
       "native-country_Trinadad&Tobago                              0   \n",
       "native-country_United-States                                1   \n",
       "native-country_Vietnam                                      0   \n",
       "native-country_Yugoslavia                                   0   \n",
       "wage_>50K                                                   1   \n",
       "\n",
       "                                                            3                4  \n",
       "age                                                        26               40  \n",
       "workclass                                             Private      Federal-gov  \n",
       "fnlwgt                                                 178140            56795  \n",
       "education                                           Bachelors          Masters  \n",
       "education-num                                              13               14  \n",
       "marital-status                             Married-civ-spouse    Never-married  \n",
       "occupation                                      Other-service  Exec-managerial  \n",
       "relationship                                          Husband    Not-in-family  \n",
       "sex                                                      Male           Female  \n",
       "capital-gain                                                0            14084  \n",
       "capital-loss                                                0                0  \n",
       "hours-per-week                                             45               55  \n",
       "native-country                                  United-States    United-States  \n",
       "wage                                                     >50K             >50K  \n",
       "workclass_Federal-gov                                       0                1  \n",
       "workclass_Local-gov                                         0                0  \n",
       "workclass_Never-worked                                      0                0  \n",
       "workclass_Private                                           1                0  \n",
       "workclass_Self-emp-inc                                      0                0  \n",
       "workclass_Self-emp-not-inc                                  0                0  \n",
       "workclass_State-gov                                         0                0  \n",
       "workclass_Without-pay                                       0                0  \n",
       "education_11th                                              0                0  \n",
       "education_12th                                              0                0  \n",
       "education_1st-4th                                           0                0  \n",
       "education_5th-6th                                           0                0  \n",
       "education_7th-8th                                           0                0  \n",
       "education_9th                                               0                0  \n",
       "education_Assoc-acdm                                        0                0  \n",
       "education_Assoc-voc                                         0                0  \n",
       "...                                                       ...              ...  \n",
       "native-country_Greece                                       0                0  \n",
       "native-country_Guatemala                                    0                0  \n",
       "native-country_Haiti                                        0                0  \n",
       "native-country_Honduras                                     0                0  \n",
       "native-country_Hong                                         0                0  \n",
       "native-country_Hungary                                      0                0  \n",
       "native-country_India                                        0                0  \n",
       "native-country_Iran                                         0                0  \n",
       "native-country_Ireland                                      0                0  \n",
       "native-country_Italy                                        0                0  \n",
       "native-country_Jamaica                                      0                0  \n",
       "native-country_Japan                                        0                0  \n",
       "native-country_Laos                                         0                0  \n",
       "native-country_Mexico                                       0                0  \n",
       "native-country_Nicaragua                                    0                0  \n",
       "native-country_Outlying-US(Guam-USVI-etc)                   0                0  \n",
       "native-country_Peru                                         0                0  \n",
       "native-country_Philippines                                  0                0  \n",
       "native-country_Poland                                       0                0  \n",
       "native-country_Portugal                                     0                0  \n",
       "native-country_Puerto-Rico                                  0                0  \n",
       "native-country_Scotland                                     0                0  \n",
       "native-country_South                                        0                0  \n",
       "native-country_Taiwan                                       0                0  \n",
       "native-country_Thailand                                     0                0  \n",
       "native-country_Trinadad&Tobago                              0                0  \n",
       "native-country_United-States                                1                1  \n",
       "native-country_Vietnam                                      0                0  \n",
       "native-country_Yugoslavia                                   0                0  \n",
       "wage_>50K                                                   1                1  \n",
       "\n",
       "[104 rows x 5 columns]"
      ]
     },
     "execution_count": 12,
     "metadata": {},
     "output_type": "execute_result"
    }
   ],
   "source": [
    "df.head().T"
   ]
  },
  {
   "cell_type": "code",
   "execution_count": 13,
   "metadata": {},
   "outputs": [
    {
     "data": {
      "text/plain": [
       "Index(['marital-status_Never-married', 'relationship_Own-child',\n",
       "       'relationship_Not-in-family', 'occupation_Other-service',\n",
       "       'relationship_Unmarried'],\n",
       "      dtype='object')"
      ]
     },
     "execution_count": 13,
     "metadata": {},
     "output_type": "execute_result"
    }
   ],
   "source": [
    "# Gives us the largest negative correlations to what we want to predict.\n",
    "largest_neg_corr_list = df.corr()[['wage_>50K']].sort_values('wage_>50K').head(5).T.columns\n",
    "largest_neg_corr_list"
   ]
  },
  {
   "cell_type": "code",
   "execution_count": 14,
   "metadata": {},
   "outputs": [
    {
     "data": {
      "text/plain": [
       "Index(['age', 'hours-per-week', 'education-num',\n",
       "       'marital-status_Married-civ-spouse'],\n",
       "      dtype='object')"
      ]
     },
     "execution_count": 14,
     "metadata": {},
     "output_type": "execute_result"
    }
   ],
   "source": [
    "# Gives us the largest positive correlations to what we want to predict.\n",
    "largest_pos_corr_list = df.corr()[['wage_>50K']].sort_values('wage_>50K').tail(5).T.columns.drop('wage_>50K')\n",
    "largest_pos_corr_list"
   ]
  },
  {
   "cell_type": "code",
   "execution_count": 15,
   "metadata": {},
   "outputs": [],
   "source": [
    "# Let's pass in every column that is categorical into our X.\n",
    "X = df[['marital-status_Never-married', 'relationship_Own-child',\n",
    "      'relationship_Not-in-family', 'occupation_Other-service',\n",
    "      'relationship_Unmarried', 'occupation_Adm-clerical',\n",
    "      'occupation_Handlers-cleaners', 'relationship_Other-relative',\n",
    "      'workclass_Private', 'marital-status_Separated', 'capital-loss',\n",
    "      'occupation_Prof-specialty', 'occupation_Exec-managerial', 'sex_Male',\n",
    "      'capital-gain', 'hours-per-week', 'age', 'education-num', 'workclass_Self-emp-inc',\n",
    "      'marital-status_Married-civ-spouse']]\n",
    "y = df['wage_>50K'] # Our y is what we want to predict."
   ]
  },
  {
   "cell_type": "code",
   "execution_count": 16,
   "metadata": {},
   "outputs": [],
   "source": [
    "# We need to train test split our data.\n",
    "X_train, X_test, y_train, y_test = train_test_split(X, y, test_size = 0.3, stratify = y, random_state = 42)"
   ]
  },
  {
   "cell_type": "code",
   "execution_count": 17,
   "metadata": {},
   "outputs": [],
   "source": [
    "# Let's set a group of params.\n",
    "params = {'min_samples_split':[12, 25, 40]}"
   ]
  },
  {
   "cell_type": "code",
   "execution_count": 18,
   "metadata": {},
   "outputs": [],
   "source": [
    "# Instantiates the random forest classifier.\n",
    "rf = RandomForestClassifier(n_estimators = 10)"
   ]
  },
  {
   "cell_type": "code",
   "execution_count": 19,
   "metadata": {},
   "outputs": [],
   "source": [
    "# Instantiates the Naive Bayes classifier.\n",
    "mnb = MultinomialNB()"
   ]
  },
  {
   "cell_type": "code",
   "execution_count": 20,
   "metadata": {},
   "outputs": [
    {
     "data": {
      "text/plain": [
       "(6513, 20)"
      ]
     },
     "execution_count": 20,
     "metadata": {},
     "output_type": "execute_result"
    }
   ],
   "source": [
    "# Shape of the X data.\n",
    "X.shape"
   ]
  },
  {
   "cell_type": "code",
   "execution_count": 21,
   "metadata": {},
   "outputs": [
    {
     "data": {
      "text/plain": [
       "(6513,)"
      ]
     },
     "execution_count": 21,
     "metadata": {},
     "output_type": "execute_result"
    }
   ],
   "source": [
    "# Shape of the y data.\n",
    "y.shape"
   ]
  },
  {
   "cell_type": "code",
   "execution_count": 22,
   "metadata": {},
   "outputs": [
    {
     "data": {
      "text/plain": [
       "(4559, 20)"
      ]
     },
     "execution_count": 22,
     "metadata": {},
     "output_type": "execute_result"
    }
   ],
   "source": [
    "# Shape of the X_train.\n",
    "X_train.shape"
   ]
  },
  {
   "cell_type": "code",
   "execution_count": 23,
   "metadata": {},
   "outputs": [
    {
     "data": {
      "text/plain": [
       "(4559,)"
      ]
     },
     "execution_count": 23,
     "metadata": {},
     "output_type": "execute_result"
    }
   ],
   "source": [
    "# Shape of the y_train.\n",
    "y_train.shape"
   ]
  },
  {
   "cell_type": "code",
   "execution_count": 24,
   "metadata": {},
   "outputs": [],
   "source": [
    "# We need to transpose the trains so they contain the same amount of rows.\n",
    "X = X.transpose()"
   ]
  },
  {
   "cell_type": "code",
   "execution_count": 25,
   "metadata": {},
   "outputs": [
    {
     "data": {
      "text/plain": [
       "0.7808729984645756"
      ]
     },
     "execution_count": 25,
     "metadata": {},
     "output_type": "execute_result"
    }
   ],
   "source": [
    "# Grid searches our Naive Bayes.\n",
    "mnb_grid = {}\n",
    "gs_mnb = GridSearchCV(mnb, param_grid = mnb_grid, cv = 5)\n",
    "gs_mnb.fit(X_train, y_train)\n",
    "gs_mnb.score(X_train, y_train)"
   ]
  },
  {
   "cell_type": "code",
   "execution_count": 26,
   "metadata": {},
   "outputs": [
    {
     "data": {
      "text/plain": [
       "0.7835209825997953"
      ]
     },
     "execution_count": 26,
     "metadata": {},
     "output_type": "execute_result"
    }
   ],
   "source": [
    "# Scores the Naive Bayes.\n",
    "gs_mnb.score(X_test, y_test)"
   ]
  },
  {
   "cell_type": "code",
   "execution_count": 27,
   "metadata": {},
   "outputs": [
    {
     "data": {
      "text/plain": [
       "0.88528186005703"
      ]
     },
     "execution_count": 27,
     "metadata": {},
     "output_type": "execute_result"
    }
   ],
   "source": [
    "# Grid searches our random forest classifier.\n",
    "gs_rf = GridSearchCV(rf, param_grid = params, return_train_score = True, cv = 5)\n",
    "gs_rf.fit(X_train, y_train)\n",
    "gs_rf.score(X_train, y_train)"
   ]
  },
  {
   "cell_type": "code",
   "execution_count": 28,
   "metadata": {
    "scrolled": true
   },
   "outputs": [
    {
     "data": {
      "text/plain": [
       "0.8546571136131014"
      ]
     },
     "execution_count": 28,
     "metadata": {},
     "output_type": "execute_result"
    }
   ],
   "source": [
    "# Our random forest score.\n",
    "gs_rf.score(X_test, y_test)"
   ]
  },
  {
   "cell_type": "code",
   "execution_count": 29,
   "metadata": {},
   "outputs": [
    {
     "data": {
      "text/plain": [
       "array([0.02556155, 0.01068944, 0.02177227, 0.00786287, 0.0064252 ,\n",
       "       0.00521821, 0.00280304, 0.00289069, 0.01437296, 0.00067725,\n",
       "       0.0394269 , 0.02168312, 0.03810512, 0.02240901, 0.16395851,\n",
       "       0.08740833, 0.13243063, 0.15289988, 0.01277196, 0.23063307])"
      ]
     },
     "execution_count": 29,
     "metadata": {},
     "output_type": "execute_result"
    }
   ],
   "source": [
    "# Our best feature importances.\n",
    "gs_rf.best_estimator_.feature_importances_"
   ]
  },
  {
   "cell_type": "code",
   "execution_count": 30,
   "metadata": {},
   "outputs": [],
   "source": [
    "feat_importance = pd.DataFrame(gs_rf.best_estimator_.feature_importances_, X_test.columns, columns = ['importance'])"
   ]
  },
  {
   "cell_type": "code",
   "execution_count": 31,
   "metadata": {},
   "outputs": [
    {
     "data": {
      "image/png": "[encoded data removed]",
      "text/plain": [
       "<Figure size 2520x1800 with 1 Axes>"
      ]
     },
     "metadata": {
      "needs_background": "light"
     },
     "output_type": "display_data"
    }
   ],
   "source": [
    "# Our 20 best features.\n",
    "plt.figure(figsize = (35,25))\n",
    "temp = feat_importance.sort_values('importance', ascending = False).head(20)\n",
    "plt.barh(temp.index, temp['importance'], color = (0.2, 0.4, 0.6, 0.6))\n",
    "plt.title('Top 20 Features', fontsize = 30)\n",
    "plt.xlabel('Amount of information gained', fontsize = 20)\n",
    "plt.ylabel('Feature', fontsize = 20);"
   ]
  },
  {
   "cell_type": "code",
   "execution_count": 32,
   "metadata": {
    "scrolled": true
   },
   "outputs": [
    {
     "data": {
      "text/plain": [
       "Text(0, 0.5, 'Mean Accuracy')"
      ]
     },
     "execution_count": 32,
     "metadata": {},
     "output_type": "execute_result"
    },
    {
     "data": {
      "image/png": "[encoded data removed]",
      "text/plain": [
       "<Figure size 1440x720 with 1 Axes>"
      ]
     },
     "metadata": {
      "needs_background": "light"
     },
     "output_type": "display_data"
    }
   ],
   "source": [
    "# The visual of our mean accuracy of our feature parameters on the data set.\n",
    "plt.figure(figsize=(20,10))\n",
    "plt.plot([param['min_samples_split'] for param in gs_rf.cv_results_['params']],\n",
    "         gs_rf.cv_results_['mean_test_score'])\n",
    "plt.xlabel('Min Samples Split')\n",
    "plt.ylabel('Mean Accuracy')"
   ]
  },
  {
   "cell_type": "code",
   "execution_count": 33,
   "metadata": {},
   "outputs": [
    {
     "data": {
      "text/plain": [
       "<Figure size 1800x720 with 0 Axes>"
      ]
     },
     "metadata": {},
     "output_type": "display_data"
    },
    {
     "data": {
      "image/png": "[encoded data removed]",
      "text/plain": [
       "<Figure size 1440x1440 with 3 Axes>"
      ]
     },
     "metadata": {
      "needs_background": "light"
     },
     "output_type": "display_data"
    }
   ],
   "source": [
    "# The line of best fit based off what we're predicting on what our best/strongest positive feature.\n",
    "plt.figure(figsize = (25, 10))\n",
    "sns.jointplot(x = \"marital-status_Married-civ-spouse\", y = \"wage_>50K\", data = df, kind = \"reg\", height = 20, line_kws = {'color': 'orange'});"
   ]
  },
  {
   "cell_type": "code",
   "execution_count": 34,
   "metadata": {},
   "outputs": [],
   "source": [
    "# df.head().head(2)"
   ]
  },
  {
   "cell_type": "code",
   "execution_count": 35,
   "metadata": {
    "scrolled": false
   },
   "outputs": [],
   "source": [
    "# df.shape"
   ]
  },
  {
   "cell_type": "code",
   "execution_count": 36,
   "metadata": {},
   "outputs": [],
   "source": [
    "# df_numerics_only = df.select_dtypes(include = [np.number])\n",
    "# df_numerics_only.head(1)"
   ]
  },
  {
   "cell_type": "code",
   "execution_count": 37,
   "metadata": {},
   "outputs": [],
   "source": [
    "# for col in df.select_dtypes(df_numerics_only != ''):\n",
    "#     df[col] = df[col].map(lambda x: x.strip())"
   ]
  },
  {
   "cell_type": "code",
   "execution_count": 38,
   "metadata": {},
   "outputs": [],
   "source": [
    "# for col in df:\n",
    "#     df[col] = df[col].map(lambda x: x.replace('?', ''))"
   ]
  }
 ],
 "metadata": {
  "kernelspec": {
   "display_name": "Python 3",
   "language": "python",
   "name": "python3"
  },
  "language_info": {
   "codemirror_mode": {
    "name": "ipython",
    "version": 3
   },
   "file_extension": ".py",
   "mimetype": "text/x-python",
   "name": "python",
   "nbconvert_exporter": "python",
   "pygments_lexer": "ipython3",
   "version": "3.7.3"
  }
 },
 "nbformat": 4,
 "nbformat_minor": 2
}
