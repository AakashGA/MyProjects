{
 "cells": [
  {
   "cell_type": "markdown",
   "metadata": {},
   "source": [
    "# Ames Housing Project Suggestions\n",
    "\n",
    "Data science is not a linear process. In this project, in particular, you will likely find that EDA, data cleaning, and exploratory visualizations will constantly feed back into each other. Here's an example:\n",
    "\n",
    "1. During basic EDA, you identify many missing values in a column/feature.\n",
    "2. You consult the data dictionary and use domain knowledge to decide _what_ is meant by this missing feature.\n",
    "3. You impute a reasonable value for the missing value.\n",
    "4. You plot the distribution of your feature.\n",
    "5. You realize what you imputed has negatively impacted your data quality.\n",
    "6. You cycle back, re-load your clean data, re-think your approach, and find a better solution.\n",
    "\n",
    "Then you move on to your next feature. _There are dozens of features in this dataset._\n",
    "\n",
    "Figuring out programmatically concise and repeatable ways to clean and explore your data will save you a lot of time.\n",
    "\n",
    "The outline below does not necessarily cover every single thing that you will want to do in your project. You may choose to do some things in a slightly different order. Many students choose to work in a single notebook for this project. Others choose to separate sections out into separate notebooks. Check with your local instructor for their preference and further suggestions."
   ]
  },
  {
   "cell_type": "code",
   "execution_count": null,
   "metadata": {},
   "outputs": [],
   "source": [
    "import pandas as pd\n",
    "import numpy as np\n",
    "import seaborn as sns\n",
    "import matplotlib.pyplot as plt\n",
    "from sklearn.linear_model import LinearRegression, LassoCV, RidgeCV\n",
    "from sklearn.preprocessing import PolynomialFeatures, StandardScaler\n",
    "from sklearn.model_selection import train_test_split, cross_val_score, cross_val_predict\n",
    "from sklearn.metrics import r2_score\n",
    "\n",
    "%matplotlib inline"
   ]
  },
  {
   "cell_type": "code",
   "execution_count": null,
   "metadata": {
    "scrolled": true
   },
   "outputs": [],
   "source": [
    "train = pd.read_csv('/Users/AakashSharma/Documents/DSI/Submissions/Project2/datasets/train.csv')\n",
    "test = pd.read_csv('/Users/AakashSharma/Documents/DSI/Submissions/Project2/datasets/test.csv')"
   ]
  },
  {
   "cell_type": "markdown",
   "metadata": {},
   "source": [
    "\n",
    "## EDA\n",
    "\n",
    "- **Read the data dictionary.**\n",
    "- Determine _what_ missing values mean.\n",
    "- Figure out what each categorical value represents.\n",
    "- Identify outliers.\n",
    "- Consider whether discrete values are better represented as categorical or continuous. (Are relationships to the target linear?)\n",
    "\n",
    "## Data Cleaning\n",
    "- Decide how to impute null values.\n",
    "- Decide how to handle outliers.\n",
    "- Do you want to combine any features?\n",
    "- Do you want to have interaction terms?\n",
    "- Do you want to manually drop collinear features?"
   ]
  },
  {
   "cell_type": "code",
   "execution_count": null,
   "metadata": {
    "scrolled": true
   },
   "outputs": [],
   "source": [
    "train.columns = train.columns.str.replace(\" \", \"_\")\n",
    "test.columns = test.columns.str.replace(\" \", \"_\")\n",
    "train.columns = train.columns.str.replace(\"/\", \"_\")\n",
    "test.columns = test.columns.str.replace(\"/\", \"_\")"
   ]
  },
  {
   "cell_type": "code",
   "execution_count": null,
   "metadata": {},
   "outputs": [],
   "source": [
    "train.isnull().sum().sum()"
   ]
  },
  {
   "cell_type": "code",
   "execution_count": null,
   "metadata": {},
   "outputs": [],
   "source": [
    "test.isnull().sum().sum()"
   ]
  },
  {
   "cell_type": "code",
   "execution_count": null,
   "metadata": {},
   "outputs": [],
   "source": [
    "train.dropna()"
   ]
  },
  {
   "cell_type": "code",
   "execution_count": null,
   "metadata": {},
   "outputs": [],
   "source": [
    "test.dropna()"
   ]
  },
  {
   "cell_type": "code",
   "execution_count": null,
   "metadata": {},
   "outputs": [],
   "source": [
    "# def convert_nan(data, column):\n",
    "#    return data[column].replace(np.nan, 0, inplace = True)"
   ]
  },
  {
   "cell_type": "code",
   "execution_count": null,
   "metadata": {},
   "outputs": [],
   "source": [
    "train['Alley'] = train.Alley.fillna('None')\n",
    "test['Alley'] = test.Alley.fillna('None')\n",
    "train['Lot_Frontage'] = train.Lot_Frontage.fillna(0)\n",
    "test['Lot_Frontage'] = test.Lot_Frontage.fillna(0)\n",
    "train['Mas_Vnr_Type'] = train.Mas_Vnr_Type.fillna('None')\n",
    "test['Mas_Vnr_Type'] = test.Mas_Vnr_Type.fillna('None')\n",
    "train['Mas_Vnr_Area'] = train.Mas_Vnr_Area.fillna(0)\n",
    "test['Mas_Vnr_Area'] = test.Mas_Vnr_Area.fillna(0)\n",
    "train['Fireplace_Qu'] = train.Fireplace_Qu.fillna('None')\n",
    "test['Fireplace_Qu'] = test.Fireplace_Qu.fillna('None')\n",
    "train['Garage_Type'] = train.Garage_Type.fillna('None')\n",
    "test['Garage_Type'] = test.Garage_Type.fillna('None')\n",
    "train['Garage_Yr_Blt'] = train.Garage_Yr_Blt.fillna(0)\n",
    "test['Garage_Yr_Blt'] = test.Garage_Yr_Blt.fillna(0)\n",
    "train['Garage_Finish'] = train.Garage_Finish.fillna('None')\n",
    "test['Garage_Finish'] = test.Garage_Finish.fillna('None')\n",
    "train['Garage_Qual'] = train.Garage_Qual.fillna('None')\n",
    "test['Garage_Qual'] = test.Garage_Qual.fillna('None')\n",
    "train['Garage_Cond'] = train.Garage_Cond.fillna('None')\n",
    "test['Garage_Cond'] = test.Garage_Cond.fillna('None')\n",
    "train['Pool_QC'] = train.Pool_QC.fillna('None')\n",
    "test['Pool_QC'] = test.Pool_QC.fillna('None')\n",
    "train['Fence'] = train.Fence.fillna('None')\n",
    "test['Fence'] = test.Fence.fillna('None')\n",
    "train['Misc_Feature'] = train.Misc_Feature.fillna('None')\n",
    "test['Misc_Feature'] = test.Misc_Feature.fillna('None')\n",
    "train['Garage_Cars'] = train.Garage_Cars.fillna(0)\n",
    "test['Garage_Cars'] = test.Garage_Cars.fillna(0)\n",
    "train['Garage_Area'] = train.Garage_Area.fillna(0)\n",
    "test['Garage_Area'] = test.Garage_Area.fillna(0)\n",
    "train['Electrical'] = train.Electrical.fillna('None')\n",
    "test['Electrical'] = test.Electrical.fillna('None')\n",
    "train['Bsmt_Qual'] = train.Bsmt_Qual.fillna('None')\n",
    "test['Bsmt_Qual'] = test.Bsmt_Qual.fillna('None')\n",
    "train['Bsmt_Cond'] = train.Bsmt_Cond.fillna('None')\n",
    "test['Bsmt_Cond'] = test.Bsmt_Cond.fillna('None') \n",
    "train['Bsmt_Exposure'] = train.Bsmt_Exposure.fillna('None')\n",
    "test['Bsmt_Exposure'] = test.Bsmt_Exposure.fillna('None') \n",
    "train['BsmtFin_Type_1'] = train.BsmtFin_Type_1.fillna('None')\n",
    "test['BsmtFin_Type_1'] = test.BsmtFin_Type_1.fillna('None') \n",
    "train['BsmtFin_Type_2'] = train.BsmtFin_Type_2.fillna('None')\n",
    "test['BsmtFin_Type_2'] = test.BsmtFin_Type_2.fillna('None')\n",
    "train['Bsmt_Full_Bath'] = train.Bsmt_Full_Bath.fillna(0)\n",
    "train['Bsmt_Half_Bath'] = train.Bsmt_Half_Bath.fillna(0)\n",
    "train['BsmtFin_SF_1'] = train.BsmtFin_SF_1.fillna(0)\n",
    "train['BsmtFin_SF_2'] = train.BsmtFin_SF_2.fillna(0)\n",
    "train['Bsmt_Unf_SF'] = train.Bsmt_Unf_SF.fillna(0)\n",
    "train['Total_Bsmt_SF'] = train.Total_Bsmt_SF.fillna(0)"
   ]
  },
  {
   "cell_type": "code",
   "execution_count": null,
   "metadata": {},
   "outputs": [],
   "source": [
    "train.dtypes"
   ]
  },
  {
   "cell_type": "code",
   "execution_count": null,
   "metadata": {},
   "outputs": [],
   "source": [
    "test.dtypes"
   ]
  },
  {
   "cell_type": "code",
   "execution_count": null,
   "metadata": {},
   "outputs": [],
   "source": [
    "train.shape"
   ]
  },
  {
   "cell_type": "code",
   "execution_count": null,
   "metadata": {
    "scrolled": false
   },
   "outputs": [],
   "source": [
    "test.shape"
   ]
  },
  {
   "cell_type": "code",
   "execution_count": null,
   "metadata": {},
   "outputs": [],
   "source": [
    "test.isnull().sum().sum()"
   ]
  },
  {
   "cell_type": "code",
   "execution_count": null,
   "metadata": {},
   "outputs": [],
   "source": [
    "train.isnull().sum().sum()"
   ]
  },
  {
   "cell_type": "markdown",
   "metadata": {},
   "source": [
    "## Exploratory Visualizations\n",
    "- Look at distributions.\n",
    "- Look at correlations.\n",
    "- Look at relationships to target (scatter plots for continuous, box plots for categorical)."
   ]
  },
  {
   "cell_type": "code",
   "execution_count": null,
   "metadata": {},
   "outputs": [],
   "source": [
    "plt.figure(figsize = (20,20))\n",
    "sns.heatmap(np.round(train.corr(), 2), annot = True)"
   ]
  },
  {
   "cell_type": "code",
   "execution_count": null,
   "metadata": {},
   "outputs": [],
   "source": [
    "train.corr()['SalePrice'].sort_values()"
   ]
  },
  {
   "cell_type": "code",
   "execution_count": null,
   "metadata": {},
   "outputs": [],
   "source": [
    "sns.pairplot(train, y_vars = ['Overall_Qual', 'Gr_Liv_Area', 'Garage_Area', 'PID', 'Enclosed_Porch'], x_vars = ['SalePrice'])"
   ]
  },
  {
   "cell_type": "code",
   "execution_count": null,
   "metadata": {},
   "outputs": [],
   "source": [
    "train.hist(figsize = (15, 15));"
   ]
  },
  {
   "cell_type": "code",
   "execution_count": null,
   "metadata": {},
   "outputs": [],
   "source": [
    "sns.boxplot(train['SalePrice'])"
   ]
  },
  {
   "cell_type": "code",
   "execution_count": null,
   "metadata": {},
   "outputs": [],
   "source": [
    "sns.boxplot(train['Overall_Qual'])"
   ]
  },
  {
   "cell_type": "code",
   "execution_count": null,
   "metadata": {},
   "outputs": [],
   "source": [
    "features = [col for col in train._get_numeric_data().columns if col != 'SalePrice']\n",
    "X = train[features]\n",
    "y = train['SalePrice']"
   ]
  },
  {
   "cell_type": "markdown",
   "metadata": {},
   "source": [
    "### Model Prep: Train/Test Split\n"
   ]
  },
  {
   "cell_type": "code",
   "execution_count": null,
   "metadata": {},
   "outputs": [],
   "source": [
    "X_train, X_test, y_train, y_test = train_test_split(X, y, random_state = 42)"
   ]
  },
  {
   "cell_type": "code",
   "execution_count": null,
   "metadata": {},
   "outputs": [],
   "source": [
    "ss = StandardScaler()\n",
    "ss.fit(X_train)\n",
    "X_train = ss.transform(X_train)\n",
    "X_test = ss.transform(X_test)"
   ]
  },
  {
   "cell_type": "markdown",
   "metadata": {},
   "source": [
    "### Model Prep: Instantiate Our Models\n"
   ]
  },
  {
   "cell_type": "code",
   "execution_count": null,
   "metadata": {},
   "outputs": [],
   "source": [
    "lr = LinearRegression()"
   ]
  },
  {
   "cell_type": "code",
   "execution_count": null,
   "metadata": {},
   "outputs": [],
   "source": [
    "lasso = LassoCV(n_alphas = 200)"
   ]
  },
  {
   "cell_type": "code",
   "execution_count": null,
   "metadata": {},
   "outputs": [],
   "source": [
    "ridge = RidgeCV(alphas = np.linspace(.1, 10, 100))"
   ]
  },
  {
   "cell_type": "markdown",
   "metadata": {},
   "source": [
    "### Cross validation\n",
    "Use `cross_val_score` to evaluate all three models."
   ]
  },
  {
   "cell_type": "code",
   "execution_count": null,
   "metadata": {},
   "outputs": [],
   "source": [
    "lr_scores = cross_val_score(lr, X_train, y_train, cv = 3)\n",
    "lr_scores.mean()"
   ]
  },
  {
   "cell_type": "code",
   "execution_count": null,
   "metadata": {},
   "outputs": [],
   "source": [
    "lasso_scores = cross_val_score(lasso, X_train, y_train, cv = 3)\n",
    "lasso_scores.mean()"
   ]
  },
  {
   "cell_type": "code",
   "execution_count": null,
   "metadata": {},
   "outputs": [],
   "source": [
    "ridge_scores = cross_val_score(ridge, X_train, y_train, cv = 3)\n",
    "ridge_scores.mean()"
   ]
  },
  {
   "cell_type": "markdown",
   "metadata": {},
   "source": [
    "### Model Fitting and Evaluation"
   ]
  },
  {
   "cell_type": "markdown",
   "metadata": {},
   "source": [
    "#### Ridge Regression Model: Train Data"
   ]
  },
  {
   "cell_type": "code",
   "execution_count": null,
   "metadata": {},
   "outputs": [],
   "source": [
    "ridge.fit(X_train, y_train)"
   ]
  },
  {
   "cell_type": "code",
   "execution_count": null,
   "metadata": {},
   "outputs": [],
   "source": [
    "ridge.score(X_train, y_train)"
   ]
  },
  {
   "cell_type": "code",
   "execution_count": null,
   "metadata": {},
   "outputs": [],
   "source": [
    "ridge.score(X_test, y_test)"
   ]
  },
  {
   "cell_type": "code",
   "execution_count": null,
   "metadata": {},
   "outputs": [],
   "source": [
    "ridge_scores.mean()"
   ]
  },
  {
   "cell_type": "code",
   "execution_count": null,
   "metadata": {},
   "outputs": [],
   "source": [
    "pred = ridge.predict(X_test)"
   ]
  },
  {
   "cell_type": "code",
   "execution_count": null,
   "metadata": {},
   "outputs": [],
   "source": [
    "r2_score(y_test, pred)"
   ]
  },
  {
   "cell_type": "code",
   "execution_count": null,
   "metadata": {
    "scrolled": true
   },
   "outputs": [],
   "source": [
    "pd.Series(ridge.coef_, index = features).plot.bar(figsize = (15, 7))"
   ]
  },
  {
   "cell_type": "code",
   "execution_count": null,
   "metadata": {},
   "outputs": [],
   "source": [
    "residuals = y_test - pred"
   ]
  },
  {
   "cell_type": "code",
   "execution_count": null,
   "metadata": {
    "scrolled": true
   },
   "outputs": [],
   "source": [
    "plt.scatter(pred, residuals)"
   ]
  },
  {
   "cell_type": "markdown",
   "metadata": {},
   "source": [
    "#### Ridge Regression Model: Test Data"
   ]
  },
  {
   "cell_type": "code",
   "execution_count": null,
   "metadata": {},
   "outputs": [],
   "source": [
    "ybar = train.SalePrice.mean()\n",
    "ybar"
   ]
  },
  {
   "cell_type": "code",
   "execution_count": null,
   "metadata": {},
   "outputs": [],
   "source": [
    "first_submission_example = pd.DataFrame(test.Id)"
   ]
  },
  {
   "cell_type": "code",
   "execution_count": null,
   "metadata": {},
   "outputs": [],
   "source": [
    "first_submission_example['SalePrice'] = ybar"
   ]
  },
  {
   "cell_type": "code",
   "execution_count": null,
   "metadata": {},
   "outputs": [],
   "source": [
    "first_submission_example.to_csv('/Users/AakashSharma/Documents/DSI/Submissions/Project2/datasets/predict_test1.csv')"
   ]
  },
  {
   "cell_type": "code",
   "execution_count": null,
   "metadata": {},
   "outputs": [],
   "source": [
    "first_submission_example.describe()"
   ]
  },
  {
   "cell_type": "markdown",
   "metadata": {},
   "source": [
    "## Business Recommendations\n",
    "- Which features appear to add the most value to a home?\n",
    "- Which features hurt the value of a home the most?\n",
    "- What are things that homeowners could improve in their homes to increase the value?\n",
    "- What neighborhoods seem like they might be a good investment?\n",
    "- Do you feel that this model will generalize to other cities? How could you revise your model to make it more universal OR what date would you need from another city to make a comparable model?"
   ]
  },
  {
   "cell_type": "code",
   "execution_count": null,
   "metadata": {},
   "outputs": [],
   "source": []
  }
 ],
 "metadata": {
  "kernelspec": {
   "display_name": "Python 3",
   "language": "python",
   "name": "python3"
  },
  "language_info": {
   "codemirror_mode": {
    "name": "ipython",
    "version": 3
   },
   "file_extension": ".py",
   "mimetype": "text/x-python",
   "name": "python",
   "nbconvert_exporter": "python",
   "pygments_lexer": "ipython3",
   "version": "3.7.3"
  }
 },
 "nbformat": 4,
 "nbformat_minor": 2
}
